{
 "cells": [
  {
   "cell_type": "markdown",
   "metadata": {},
   "source": [
    "# News Aggregator\n",
    "\n",
    "## NLP: Topic Modelling\n",
    "\n",
    "### Keys Concepts\n",
    "- Latent Dirichlet Allocation\n",
    "- Latent Semantic Analysis"
   ]
  },
  {
   "cell_type": "code",
   "execution_count": 1,
   "metadata": {},
   "outputs": [],
   "source": [
    "import numpy as np\n",
    "import pandas as pd\n",
    "\n",
    "# Visualization\n",
    "import matplotlib.pyplot as plt\n",
    "from matplotlib.ticker import FuncFormatter\n",
    "import seaborn as sns\n",
    "\n",
    "# sklearn for feature extraction & modeling\n",
    "from sklearn.feature_extraction.text import CountVectorizer, TfidfVectorizer, TfidfTransformer\n",
    "from sklearn.decomposition import LatentDirichletAllocation\n",
    "from sklearn.model_selection import train_test_split\n",
    "# from sklearn.externals import joblib\n",
    "import joblib\n",
    "\n",
    "# Iteratively read files\n",
    "import glob\n",
    "import os\n",
    "\n",
    "# For displaying images in ipython\n",
    "from IPython.display import HTML, display"
   ]
  },
  {
   "cell_type": "code",
   "execution_count": 3,
   "metadata": {},
   "outputs": [],
   "source": [
    "%matplotlib inline\n",
    "plt.style.use('ggplot')\n",
    "plt.rcParams['figure.figsize'] = (14.0, 8.7)\n",
    "#warnings.filterwarnings('ignore')\n",
    "pd.options.display.float_format = '{:,.2f}'.format"
   ]
  },
  {
   "cell_type": "markdown",
   "metadata": {},
   "source": [
    "### Load data"
   ]
  },
  {
   "cell_type": "code",
   "execution_count": 4,
   "metadata": {},
   "outputs": [],
   "source": [
    "# User defined function to read and store bbc data from multipe folders\n",
    "def load_data(folder_names,root_path):\n",
    "    fileNames = [path + '/' + 'bbc' +'/'+ folder + '/*.txt' for path,folder in zip([root_path]*len(folder_names),\n",
    "                                                                               folder_names )]\n",
    "    doc_list = []\n",
    "    tags = folder_names\n",
    "    for docs in fileNames:\n",
    "        #print(docs)\n",
    "        #print(type(docs))\n",
    "        doc = glob.glob(docs) # glob method iterates through the all the text documents in a folder\n",
    "        for text in doc:\n",
    "            with open(text, encoding='latin1') as f:\n",
    "                topic = docs.split('/')[-2]\n",
    "\n",
    "                lines = f.readlines()\n",
    "                heading = lines[0].strip()\n",
    "                body = ' '.join([l.strip() for l in lines[1:]])\n",
    "                doc_list.append([topic, heading, body])\n",
    "        print(\"Completed loading data from folder: %s\"%topic)\n",
    "    \n",
    "    print(\"Completed Loading entire text\")\n",
    "    \n",
    "    return doc_list"
   ]
  },
  {
   "cell_type": "code",
   "execution_count": 5,
   "metadata": {},
   "outputs": [
    {
     "name": "stdout",
     "output_type": "stream",
     "text": [
      "Completed loading data from folder: business\n",
      "Completed loading data from folder: entertainment\n",
      "Completed loading data from folder: politics\n",
      "Completed loading data from folder: sport\n",
      "Completed loading data from folder: tech\n",
      "Completed Loading entire text\n"
     ]
    }
   ],
   "source": [
    "folder_names = ['business','entertainment','politics','sport','tech']\n",
    "docs = load_data(folder_names = folder_names, root_path = os.getcwd())"
   ]
  },
  {
   "cell_type": "code",
   "execution_count": 6,
   "metadata": {},
   "outputs": [
    {
     "name": "stdout",
     "output_type": "stream",
     "text": [
      "   Category                            Heading  \\\n",
      "0  business    UK economy facing 'major risks'   \n",
      "1  business  Aids and climate top Davos agenda   \n",
      "2  business   Asian quake hits European shares   \n",
      "3  business   India power shares jump on debut   \n",
      "4  business    Lacroix label bought by US firm   \n",
      "\n",
      "                                             Article  \n",
      "0   The UK manufacturing sector will continue to ...  \n",
      "1   Climate change and the fight against Aids are...  \n",
      "2   Shares in Europe's leading reinsurers and tra...  \n",
      "3   Shares in India's largest power producer, Nat...  \n",
      "4   Luxury goods group LVMH has sold its loss-mak...  \n",
      "\n",
      "Shape of data is (2225, 3)\n",
      "\n",
      "<class 'pandas.core.frame.DataFrame'>\n",
      "RangeIndex: 2225 entries, 0 to 2224\n",
      "Data columns (total 3 columns):\n",
      " #   Column    Non-Null Count  Dtype \n",
      "---  ------    --------------  ----- \n",
      " 0   Category  2225 non-null   object\n",
      " 1   Heading   2225 non-null   object\n",
      " 2   Article   2225 non-null   object\n",
      "dtypes: object(3)\n",
      "memory usage: 52.3+ KB\n",
      "None\n"
     ]
    }
   ],
   "source": [
    "docs = pd.DataFrame(docs, columns=['Category', 'Heading', 'Article'])\n",
    "print(docs.head())\n",
    "print('\\nShape of data is {}\\n'.format(docs.shape))\n",
    "print(docs.info())"
   ]
  },
  {
   "cell_type": "markdown",
   "metadata": {},
   "source": [
    "<h2>Latent Dirichlet Allocation</h2>\n",
    "<h3>From Documents -- DTM -- LDA Model</h3>\n",
    "\n",
    "Topic modeling aims to automatically summarize large collections of documents to facilitate organization and management, as well as search and recommendations. At the same time, it can enable the understanding of documents to the extent that humans can interpret the descriptions of topics\n",
    "\n",
    "<img src=\"images/lda2.png\" alt=\"lda\" style=\"width:60%\">\n",
    "<img src=\"images/docs_to_lda.png\" alt=\"ldaflow\" style=\"width:100%\">"
   ]
  },
  {
   "cell_type": "markdown",
   "metadata": {},
   "source": [
    "## Find Topics in Documents and group them: First Step to Build News Aggregator"
   ]
  },
  {
   "cell_type": "markdown",
   "metadata": {},
   "source": [
    "### Convert Raw text --> Parsed Text --> Document Term Matrix --> Topic Models --> Extract Topics"
   ]
  },
  {
   "cell_type": "markdown",
   "metadata": {},
   "source": [
    "### How Topic Modelling Works\n",
    "\n",
    "LDA  assumes topics are probability distributions over words, and documents are distributions over topics. Which implies that documents cover only a small set of topics, and topics use only a small set of words frequently.\n",
    "\n",
    "__The Mathematical Formula:__\n",
    "\n",
    "<img src=\"images/ldaformula.png\" alt=\"ldaflow\" style=\"width:100%\">\n",
    "\n",
    "\n",
    "### Important Reading Article on Topic Models\n",
    "https://medium.com/@lettier/how-does-lda-work-ill-explain-using-emoji-108abf40fa7d"
   ]
  },
  {
   "cell_type": "code",
   "execution_count": 7,
   "metadata": {},
   "outputs": [],
   "source": [
    "# Split Data to train & test Topic Models\n",
    "train_docs, test_docs = train_test_split(docs, \n",
    "                                         stratify=docs.Category, \n",
    "                                         test_size=50, \n",
    "                                         random_state=42)"
   ]
  },
  {
   "cell_type": "code",
   "execution_count": 8,
   "metadata": {},
   "outputs": [
    {
     "data": {
      "text/plain": [
       "((2175, 3), (50, 3))"
      ]
     },
     "execution_count": 8,
     "metadata": {},
     "output_type": "execute_result"
    }
   ],
   "source": [
    "train_docs.shape, test_docs.shape"
   ]
  },
  {
   "cell_type": "code",
   "execution_count": 9,
   "metadata": {},
   "outputs": [
    {
     "data": {
      "text/plain": [
       "<2175x2902 sparse matrix of type '<class 'numpy.float64'>'\n",
       "\twith 205355 stored elements in Compressed Sparse Row format>"
      ]
     },
     "execution_count": 9,
     "metadata": {},
     "output_type": "execute_result"
    }
   ],
   "source": [
    "vectorizer = TfidfVectorizer(max_df=.2, \n",
    "                             min_df=.01, \n",
    "                             stop_words='english')\n",
    "\n",
    "train_dtm = vectorizer.fit_transform(train_docs[\"Article\"])\n",
    "words = vectorizer.get_feature_names()\n",
    "train_dtm"
   ]
  },
  {
   "cell_type": "code",
   "execution_count": 10,
   "metadata": {},
   "outputs": [
    {
     "data": {
      "text/plain": [
       "2902"
      ]
     },
     "execution_count": 10,
     "metadata": {},
     "output_type": "execute_result"
    }
   ],
   "source": [
    "len(words)"
   ]
  },
  {
   "cell_type": "markdown",
   "metadata": {},
   "source": [
    "### Assign Number of Topics to be extracted"
   ]
  },
  {
   "cell_type": "code",
   "execution_count": 11,
   "metadata": {},
   "outputs": [],
   "source": [
    "n_components = 5\n",
    "topic_labels = ['Topic {}'.format(i) for i in range(1, n_components+1)]"
   ]
  },
  {
   "cell_type": "code",
   "execution_count": 12,
   "metadata": {},
   "outputs": [
    {
     "data": {
      "text/plain": [
       "['Topic 1', 'Topic 2', 'Topic 3', 'Topic 4', 'Topic 5']"
      ]
     },
     "execution_count": 12,
     "metadata": {},
     "output_type": "execute_result"
    }
   ],
   "source": [
    "topic_labels"
   ]
  },
  {
   "cell_type": "code",
   "execution_count": 13,
   "metadata": {},
   "outputs": [
    {
     "data": {
      "text/plain": [
       "LatentDirichletAllocation(n_components=5, n_jobs=-1)"
      ]
     },
     "execution_count": 13,
     "metadata": {},
     "output_type": "execute_result"
    }
   ],
   "source": [
    "lda_base = LatentDirichletAllocation(n_components=n_components,\n",
    "                                     n_jobs=-1,\n",
    "                                     learning_method='batch',\n",
    "                                     max_iter=10)\n",
    "lda_base.fit(train_dtm)"
   ]
  },
  {
   "cell_type": "code",
   "execution_count": 14,
   "metadata": {},
   "outputs": [
    {
     "data": {
      "text/plain": [
       "['lda_10_iter.pkl']"
      ]
     },
     "execution_count": 14,
     "metadata": {},
     "output_type": "execute_result"
    }
   ],
   "source": [
    "# Save the model on disk\n",
    "joblib.dump(lda_base,'lda_10_iter.pkl')"
   ]
  },
  {
   "cell_type": "markdown",
   "metadata": {},
   "source": [
    "### Explore topics & word distributions"
   ]
  },
  {
   "cell_type": "code",
   "execution_count": 15,
   "metadata": {},
   "outputs": [
    {
     "name": "stdout",
     "output_type": "stream",
     "text": [
      "(5, 2902)\n"
     ]
    },
    {
     "data": {
      "text/plain": [
       "array([[ 0.20012375,  0.20011951,  0.20023083, ...,  0.20013866,\n",
       "         0.20005917,  0.20011144],\n",
       "       [ 6.41076617,  4.29373585,  1.03408684, ...,  1.10380158,\n",
       "         0.20084256,  0.20082415],\n",
       "       [ 1.28669303,  0.20271142,  2.87656706, ...,  0.2036261 ,\n",
       "         0.20064192,  0.2001841 ],\n",
       "       [ 3.10355667,  3.25465967,  0.25628303, ...,  1.10836151,\n",
       "         0.20086084,  0.39439168],\n",
       "       [11.97391936,  3.37280239,  0.81226473, ...,  1.69477609,\n",
       "        11.5945867 ,  5.54276661]])"
      ]
     },
     "execution_count": 15,
     "metadata": {},
     "output_type": "execute_result"
    }
   ],
   "source": [
    "# pseudo counts\n",
    "topics_count = lda_base.components_\n",
    "print(topics_count.shape)\n",
    "topics_count[:5]"
   ]
  },
  {
   "cell_type": "code",
   "execution_count": 16,
   "metadata": {},
   "outputs": [
    {
     "data": {
      "text/html": [
       "<div>\n",
       "<style scoped>\n",
       "    .dataframe tbody tr th:only-of-type {\n",
       "        vertical-align: middle;\n",
       "    }\n",
       "\n",
       "    .dataframe tbody tr th {\n",
       "        vertical-align: top;\n",
       "    }\n",
       "\n",
       "    .dataframe thead th {\n",
       "        text-align: right;\n",
       "    }\n",
       "</style>\n",
       "<table border=\"1\" class=\"dataframe\">\n",
       "  <thead>\n",
       "    <tr style=\"text-align: right;\">\n",
       "      <th></th>\n",
       "      <th>Topic 1</th>\n",
       "      <th>Topic 2</th>\n",
       "      <th>Topic 3</th>\n",
       "      <th>Topic 4</th>\n",
       "      <th>Topic 5</th>\n",
       "    </tr>\n",
       "  </thead>\n",
       "  <tbody>\n",
       "    <tr>\n",
       "      <th>10</th>\n",
       "      <td>0.00</td>\n",
       "      <td>0.00</td>\n",
       "      <td>0.00</td>\n",
       "      <td>0.00</td>\n",
       "      <td>0.00</td>\n",
       "    </tr>\n",
       "    <tr>\n",
       "      <th>100</th>\n",
       "      <td>0.00</td>\n",
       "      <td>0.00</td>\n",
       "      <td>0.00</td>\n",
       "      <td>0.00</td>\n",
       "      <td>0.00</td>\n",
       "    </tr>\n",
       "    <tr>\n",
       "      <th>100m</th>\n",
       "      <td>0.00</td>\n",
       "      <td>0.00</td>\n",
       "      <td>0.00</td>\n",
       "      <td>0.00</td>\n",
       "      <td>0.00</td>\n",
       "    </tr>\n",
       "    <tr>\n",
       "      <th>11</th>\n",
       "      <td>0.00</td>\n",
       "      <td>0.00</td>\n",
       "      <td>0.00</td>\n",
       "      <td>0.00</td>\n",
       "      <td>0.00</td>\n",
       "    </tr>\n",
       "    <tr>\n",
       "      <th>12</th>\n",
       "      <td>0.00</td>\n",
       "      <td>0.00</td>\n",
       "      <td>0.00</td>\n",
       "      <td>0.00</td>\n",
       "      <td>0.00</td>\n",
       "    </tr>\n",
       "  </tbody>\n",
       "</table>\n",
       "</div>"
      ],
      "text/plain": [
       "      Topic 1  Topic 2  Topic 3  Topic 4  Topic 5\n",
       "10       0.00     0.00     0.00     0.00     0.00\n",
       "100      0.00     0.00     0.00     0.00     0.00\n",
       "100m     0.00     0.00     0.00     0.00     0.00\n",
       "11       0.00     0.00     0.00     0.00     0.00\n",
       "12       0.00     0.00     0.00     0.00     0.00"
      ]
     },
     "execution_count": 16,
     "metadata": {},
     "output_type": "execute_result"
    }
   ],
   "source": [
    "topics_prob = topics_count / topics_count.sum(axis=1).reshape(-1, 1)\n",
    "topics = pd.DataFrame(topics_prob.T,\n",
    "                      index=words,\n",
    "                      columns=topic_labels)\n",
    "topics.head()"
   ]
  },
  {
   "cell_type": "code",
   "execution_count": 17,
   "metadata": {},
   "outputs": [
    {
     "data": {
      "text/plain": [
       "(2902, 5)"
      ]
     },
     "execution_count": 17,
     "metadata": {},
     "output_type": "execute_result"
    }
   ],
   "source": [
    "topics.shape"
   ]
  },
  {
   "cell_type": "code",
   "execution_count": 18,
   "metadata": {},
   "outputs": [
    {
     "data": {
      "text/plain": [
       "<matplotlib.axes._subplots.AxesSubplot at 0x7fc2f1f59730>"
      ]
     },
     "execution_count": 18,
     "metadata": {},
     "output_type": "execute_result"
    },
    {
     "data": {
      "image/png": "[encoded data removed]",
      "text/plain": [
       "<Figure size 1008x626.4 with 2 Axes>"
      ]
     },
     "metadata": {},
     "output_type": "display_data"
    }
   ],
   "source": [
    "sns.heatmap(topics, cmap='Blues')"
   ]
  },
  {
   "cell_type": "code",
   "execution_count": 19,
   "metadata": {},
   "outputs": [
    {
     "data": {
      "text/html": [
       "<div>\n",
       "<style scoped>\n",
       "    .dataframe tbody tr th:only-of-type {\n",
       "        vertical-align: middle;\n",
       "    }\n",
       "\n",
       "    .dataframe tbody tr th {\n",
       "        vertical-align: top;\n",
       "    }\n",
       "\n",
       "    .dataframe thead th {\n",
       "        text-align: right;\n",
       "    }\n",
       "</style>\n",
       "<table border=\"1\" class=\"dataframe\">\n",
       "  <thead>\n",
       "    <tr style=\"text-align: right;\">\n",
       "      <th></th>\n",
       "      <th>Topic 1</th>\n",
       "      <th>Topic 2</th>\n",
       "      <th>Topic 3</th>\n",
       "      <th>Topic 4</th>\n",
       "      <th>Topic 5</th>\n",
       "    </tr>\n",
       "  </thead>\n",
       "  <tbody>\n",
       "    <tr>\n",
       "      <th>0</th>\n",
       "      <td>discussion</td>\n",
       "      <td>mobile</td>\n",
       "      <td>chelsea</td>\n",
       "      <td>labour</td>\n",
       "      <td>film</td>\n",
       "    </tr>\n",
       "    <tr>\n",
       "      <th>1</th>\n",
       "      <td>awarded</td>\n",
       "      <td>firm</td>\n",
       "      <td>club</td>\n",
       "      <td>election</td>\n",
       "      <td>best</td>\n",
       "    </tr>\n",
       "    <tr>\n",
       "      <th>2</th>\n",
       "      <td>release</td>\n",
       "      <td>company</td>\n",
       "      <td>arsenal</td>\n",
       "      <td>party</td>\n",
       "      <td>game</td>\n",
       "    </tr>\n",
       "    <tr>\n",
       "      <th>3</th>\n",
       "      <td>correspondent</td>\n",
       "      <td>technology</td>\n",
       "      <td>olympic</td>\n",
       "      <td>blair</td>\n",
       "      <td>england</td>\n",
       "    </tr>\n",
       "    <tr>\n",
       "      <th>4</th>\n",
       "      <td>seats</td>\n",
       "      <td>market</td>\n",
       "      <td>liverpool</td>\n",
       "      <td>minister</td>\n",
       "      <td>win</td>\n",
       "    </tr>\n",
       "    <tr>\n",
       "      <th>5</th>\n",
       "      <td>loan</td>\n",
       "      <td>software</td>\n",
       "      <td>united</td>\n",
       "      <td>brown</td>\n",
       "      <td>won</td>\n",
       "    </tr>\n",
       "    <tr>\n",
       "      <th>6</th>\n",
       "      <td>request</td>\n",
       "      <td>users</td>\n",
       "      <td>league</td>\n",
       "      <td>tax</td>\n",
       "      <td>play</td>\n",
       "    </tr>\n",
       "    <tr>\n",
       "      <th>7</th>\n",
       "      <td>cleared</td>\n",
       "      <td>phone</td>\n",
       "      <td>madrid</td>\n",
       "      <td>public</td>\n",
       "      <td>second</td>\n",
       "    </tr>\n",
       "    <tr>\n",
       "      <th>8</th>\n",
       "      <td>investigation</td>\n",
       "      <td>music</td>\n",
       "      <td>race</td>\n",
       "      <td>eu</td>\n",
       "      <td>half</td>\n",
       "    </tr>\n",
       "    <tr>\n",
       "      <th>9</th>\n",
       "      <td>lets</td>\n",
       "      <td>digital</td>\n",
       "      <td>athens</td>\n",
       "      <td>prime</td>\n",
       "      <td>match</td>\n",
       "    </tr>\n",
       "    <tr>\n",
       "      <th>10</th>\n",
       "      <td>solution</td>\n",
       "      <td>net</td>\n",
       "      <td>indoor</td>\n",
       "      <td>howard</td>\n",
       "      <td>final</td>\n",
       "    </tr>\n",
       "    <tr>\n",
       "      <th>11</th>\n",
       "      <td>lawyer</td>\n",
       "      <td>computer</td>\n",
       "      <td>trial</td>\n",
       "      <td>law</td>\n",
       "      <td>star</td>\n",
       "    </tr>\n",
       "    <tr>\n",
       "      <th>12</th>\n",
       "      <td>arrest</td>\n",
       "      <td>use</td>\n",
       "      <td>guilty</td>\n",
       "      <td>chancellor</td>\n",
       "      <td>oil</td>\n",
       "    </tr>\n",
       "    <tr>\n",
       "      <th>13</th>\n",
       "      <td>brand</td>\n",
       "      <td>sales</td>\n",
       "      <td>manchester</td>\n",
       "      <td>secretary</td>\n",
       "      <td>growth</td>\n",
       "    </tr>\n",
       "    <tr>\n",
       "      <th>14</th>\n",
       "      <td>useful</td>\n",
       "      <td>shares</td>\n",
       "      <td>athletics</td>\n",
       "      <td>plans</td>\n",
       "      <td>2004</td>\n",
       "    </tr>\n",
       "    <tr>\n",
       "      <th>15</th>\n",
       "      <td>personally</td>\n",
       "      <td>firms</td>\n",
       "      <td>champion</td>\n",
       "      <td>lord</td>\n",
       "      <td>ireland</td>\n",
       "    </tr>\n",
       "    <tr>\n",
       "      <th>16</th>\n",
       "      <td>victim</td>\n",
       "      <td>companies</td>\n",
       "      <td>boss</td>\n",
       "      <td>tory</td>\n",
       "      <td>award</td>\n",
       "    </tr>\n",
       "    <tr>\n",
       "      <th>17</th>\n",
       "      <td>introduction</td>\n",
       "      <td>online</td>\n",
       "      <td>charges</td>\n",
       "      <td>leader</td>\n",
       "      <td>awards</td>\n",
       "    </tr>\n",
       "    <tr>\n",
       "      <th>18</th>\n",
       "      <td>connections</td>\n",
       "      <td>internet</td>\n",
       "      <td>drugs</td>\n",
       "      <td>general</td>\n",
       "      <td>bank</td>\n",
       "    </tr>\n",
       "    <tr>\n",
       "      <th>19</th>\n",
       "      <td>thomas</td>\n",
       "      <td>games</td>\n",
       "      <td>football</td>\n",
       "      <td>say</td>\n",
       "      <td>france</td>\n",
       "    </tr>\n",
       "  </tbody>\n",
       "</table>\n",
       "</div>"
      ],
      "text/plain": [
       "          Topic 1     Topic 2     Topic 3     Topic 4  Topic 5\n",
       "0      discussion      mobile     chelsea      labour     film\n",
       "1         awarded        firm        club    election     best\n",
       "2         release     company     arsenal       party     game\n",
       "3   correspondent  technology     olympic       blair  england\n",
       "4           seats      market   liverpool    minister      win\n",
       "5            loan    software      united       brown      won\n",
       "6         request       users      league         tax     play\n",
       "7         cleared       phone      madrid      public   second\n",
       "8   investigation       music        race          eu     half\n",
       "9            lets     digital      athens       prime    match\n",
       "10       solution         net      indoor      howard    final\n",
       "11         lawyer    computer       trial         law     star\n",
       "12         arrest         use      guilty  chancellor      oil\n",
       "13          brand       sales  manchester   secretary   growth\n",
       "14         useful      shares   athletics       plans     2004\n",
       "15     personally       firms    champion        lord  ireland\n",
       "16         victim   companies        boss        tory    award\n",
       "17   introduction      online     charges      leader   awards\n",
       "18    connections    internet       drugs     general     bank\n",
       "19         thomas       games    football         say   france"
      ]
     },
     "execution_count": 19,
     "metadata": {},
     "output_type": "execute_result"
    }
   ],
   "source": [
    "top_words = {}\n",
    "for topic, words_ in topics.items():\n",
    "    top_words[topic] = words_.nlargest(20).index.tolist()\n",
    "pd.DataFrame(top_words)"
   ]
  },
  {
   "cell_type": "markdown",
   "metadata": {},
   "source": [
    "### Evaluate Fit on Train Set"
   ]
  },
  {
   "cell_type": "code",
   "execution_count": 20,
   "metadata": {},
   "outputs": [
    {
     "data": {
      "text/plain": [
       "(2175, 5)"
      ]
     },
     "execution_count": 20,
     "metadata": {},
     "output_type": "execute_result"
    }
   ],
   "source": [
    "train_preds = lda_base.transform(train_dtm)\n",
    "train_preds.shape"
   ]
  },
  {
   "cell_type": "code",
   "execution_count": 21,
   "metadata": {},
   "outputs": [
    {
     "name": "stdout",
     "output_type": "stream",
     "text": [
      "[[0.02341882 0.64703029 0.02405078 0.02502845 0.28047166]\n",
      " [0.0143951  0.48369911 0.01458483 0.47248958 0.01483139]\n",
      " [0.02245588 0.02269056 0.02252489 0.02271432 0.90961435]\n",
      " [0.02051166 0.02173969 0.02056547 0.03180921 0.90537397]\n",
      " [0.02050171 0.02128736 0.02085037 0.02080159 0.91655898]]\n"
     ]
    },
    {
     "data": {
      "text/plain": [
       "array([1, 1, 4, 4, 4])"
      ]
     },
     "execution_count": 21,
     "metadata": {},
     "output_type": "execute_result"
    }
   ],
   "source": [
    "t = train_preds[0:5]\n",
    "print(t)\n",
    "np.argmax(t,axis =1)"
   ]
  },
  {
   "cell_type": "code",
   "execution_count": 22,
   "metadata": {},
   "outputs": [
    {
     "data": {
      "text/html": [
       "<div>\n",
       "<style scoped>\n",
       "    .dataframe tbody tr th:only-of-type {\n",
       "        vertical-align: middle;\n",
       "    }\n",
       "\n",
       "    .dataframe tbody tr th {\n",
       "        vertical-align: top;\n",
       "    }\n",
       "\n",
       "    .dataframe thead th {\n",
       "        text-align: right;\n",
       "    }\n",
       "</style>\n",
       "<table border=\"1\" class=\"dataframe\">\n",
       "  <thead>\n",
       "    <tr style=\"text-align: right;\">\n",
       "      <th></th>\n",
       "      <th>Topic 1</th>\n",
       "      <th>Topic 2</th>\n",
       "      <th>Topic 3</th>\n",
       "      <th>Topic 4</th>\n",
       "      <th>Topic 5</th>\n",
       "    </tr>\n",
       "    <tr>\n",
       "      <th>Category</th>\n",
       "      <th></th>\n",
       "      <th></th>\n",
       "      <th></th>\n",
       "      <th></th>\n",
       "      <th></th>\n",
       "    </tr>\n",
       "  </thead>\n",
       "  <tbody>\n",
       "    <tr>\n",
       "      <th>entertainment</th>\n",
       "      <td>0.02</td>\n",
       "      <td>0.65</td>\n",
       "      <td>0.02</td>\n",
       "      <td>0.03</td>\n",
       "      <td>0.28</td>\n",
       "    </tr>\n",
       "    <tr>\n",
       "      <th>tech</th>\n",
       "      <td>0.01</td>\n",
       "      <td>0.48</td>\n",
       "      <td>0.01</td>\n",
       "      <td>0.47</td>\n",
       "      <td>0.01</td>\n",
       "    </tr>\n",
       "    <tr>\n",
       "      <th>entertainment</th>\n",
       "      <td>0.02</td>\n",
       "      <td>0.02</td>\n",
       "      <td>0.02</td>\n",
       "      <td>0.02</td>\n",
       "      <td>0.91</td>\n",
       "    </tr>\n",
       "    <tr>\n",
       "      <th>business</th>\n",
       "      <td>0.02</td>\n",
       "      <td>0.02</td>\n",
       "      <td>0.02</td>\n",
       "      <td>0.03</td>\n",
       "      <td>0.91</td>\n",
       "    </tr>\n",
       "    <tr>\n",
       "      <th>sport</th>\n",
       "      <td>0.02</td>\n",
       "      <td>0.02</td>\n",
       "      <td>0.02</td>\n",
       "      <td>0.02</td>\n",
       "      <td>0.92</td>\n",
       "    </tr>\n",
       "    <tr>\n",
       "      <th>business</th>\n",
       "      <td>0.03</td>\n",
       "      <td>0.03</td>\n",
       "      <td>0.03</td>\n",
       "      <td>0.03</td>\n",
       "      <td>0.89</td>\n",
       "    </tr>\n",
       "    <tr>\n",
       "      <th>politics</th>\n",
       "      <td>0.02</td>\n",
       "      <td>0.02</td>\n",
       "      <td>0.02</td>\n",
       "      <td>0.91</td>\n",
       "      <td>0.02</td>\n",
       "    </tr>\n",
       "    <tr>\n",
       "      <th>politics</th>\n",
       "      <td>0.02</td>\n",
       "      <td>0.02</td>\n",
       "      <td>0.02</td>\n",
       "      <td>0.92</td>\n",
       "      <td>0.02</td>\n",
       "    </tr>\n",
       "    <tr>\n",
       "      <th>business</th>\n",
       "      <td>0.02</td>\n",
       "      <td>0.02</td>\n",
       "      <td>0.02</td>\n",
       "      <td>0.44</td>\n",
       "      <td>0.49</td>\n",
       "    </tr>\n",
       "    <tr>\n",
       "      <th>tech</th>\n",
       "      <td>0.02</td>\n",
       "      <td>0.60</td>\n",
       "      <td>0.02</td>\n",
       "      <td>0.02</td>\n",
       "      <td>0.34</td>\n",
       "    </tr>\n",
       "  </tbody>\n",
       "</table>\n",
       "</div>"
      ],
      "text/plain": [
       "               Topic 1  Topic 2  Topic 3  Topic 4  Topic 5\n",
       "Category                                                  \n",
       "entertainment     0.02     0.65     0.02     0.03     0.28\n",
       "tech              0.01     0.48     0.01     0.47     0.01\n",
       "entertainment     0.02     0.02     0.02     0.02     0.91\n",
       "business          0.02     0.02     0.02     0.03     0.91\n",
       "sport             0.02     0.02     0.02     0.02     0.92\n",
       "business          0.03     0.03     0.03     0.03     0.89\n",
       "politics          0.02     0.02     0.02     0.91     0.02\n",
       "politics          0.02     0.02     0.02     0.92     0.02\n",
       "business          0.02     0.02     0.02     0.44     0.49\n",
       "tech              0.02     0.60     0.02     0.02     0.34"
      ]
     },
     "execution_count": 22,
     "metadata": {},
     "output_type": "execute_result"
    }
   ],
   "source": [
    "train_eval = pd.DataFrame(train_preds, columns=topic_labels, index=train_docs.Category)\n",
    "train_eval.head(n=10)"
   ]
  },
  {
   "cell_type": "code",
   "execution_count": 23,
   "metadata": {},
   "outputs": [
    {
     "data": {
      "text/plain": [
       "Category                                             business\n",
       "Heading                     Aids and climate top Davos agenda\n",
       "Article      Climate change and the fight against Aids are...\n",
       "Name: 1, dtype: object"
      ]
     },
     "execution_count": 23,
     "metadata": {},
     "output_type": "execute_result"
    }
   ],
   "source": [
    "train_docs.loc[1,:]"
   ]
  },
  {
   "cell_type": "code",
   "execution_count": 24,
   "metadata": {},
   "outputs": [
    {
     "data": {
      "text/plain": [
       "<matplotlib.axes._subplots.AxesSubplot at 0x7fc2f34b87c0>"
      ]
     },
     "execution_count": 24,
     "metadata": {},
     "output_type": "execute_result"
    },
    {
     "data": {
      "image/png": "[encoded data removed]",
      "text/plain": [
       "<Figure size 1008x626.4 with 1 Axes>"
      ]
     },
     "metadata": {},
     "output_type": "display_data"
    }
   ],
   "source": [
    "train_eval.groupby(level='Category').mean().plot.bar(title='Avg. Topic Probabilities')"
   ]
  },
  {
   "cell_type": "code",
   "execution_count": 25,
   "metadata": {},
   "outputs": [
    {
     "data": {
      "text/plain": [
       "Text(0.5, 1.0, 'Train Data: Topic Assignments')"
      ]
     },
     "execution_count": 25,
     "metadata": {},
     "output_type": "execute_result"
    },
    {
     "data": {
      "image/png": "[encoded data removed]",
      "text/plain": [
       "<Figure size 1008x626.4 with 2 Axes>"
      ]
     },
     "metadata": {},
     "output_type": "display_data"
    }
   ],
   "source": [
    "df = train_eval.groupby(level='Category').idxmax(\n",
    "    axis=1).reset_index(-1, drop=True)\n",
    "sns.heatmap(df.groupby(level='Category').value_counts(normalize=True)\n",
    "            .unstack(-1), annot=True, fmt='.1%', cmap='Blues', square=True)\n",
    "plt.title('Train Data: Topic Assignments')"
   ]
  },
  {
   "cell_type": "markdown",
   "metadata": {},
   "source": [
    "### Evaluate Fit on Test Set"
   ]
  },
  {
   "cell_type": "code",
   "execution_count": 26,
   "metadata": {},
   "outputs": [
    {
     "data": {
      "text/plain": [
       "<50x2902 sparse matrix of type '<class 'numpy.float64'>'\n",
       "\twith 4418 stored elements in Compressed Sparse Row format>"
      ]
     },
     "execution_count": 26,
     "metadata": {},
     "output_type": "execute_result"
    }
   ],
   "source": [
    "test_dtm = vectorizer.transform(test_docs.Article)\n",
    "test_dtm"
   ]
  },
  {
   "cell_type": "code",
   "execution_count": 27,
   "metadata": {},
   "outputs": [
    {
     "data": {
      "text/html": [
       "<div>\n",
       "<style scoped>\n",
       "    .dataframe tbody tr th:only-of-type {\n",
       "        vertical-align: middle;\n",
       "    }\n",
       "\n",
       "    .dataframe tbody tr th {\n",
       "        vertical-align: top;\n",
       "    }\n",
       "\n",
       "    .dataframe thead th {\n",
       "        text-align: right;\n",
       "    }\n",
       "</style>\n",
       "<table border=\"1\" class=\"dataframe\">\n",
       "  <thead>\n",
       "    <tr style=\"text-align: right;\">\n",
       "      <th></th>\n",
       "      <th>Topic 1</th>\n",
       "      <th>Topic 2</th>\n",
       "      <th>Topic 3</th>\n",
       "      <th>Topic 4</th>\n",
       "      <th>Topic 5</th>\n",
       "    </tr>\n",
       "    <tr>\n",
       "      <th>Category</th>\n",
       "      <th></th>\n",
       "      <th></th>\n",
       "      <th></th>\n",
       "      <th></th>\n",
       "      <th></th>\n",
       "    </tr>\n",
       "  </thead>\n",
       "  <tbody>\n",
       "    <tr>\n",
       "      <th>entertainment</th>\n",
       "      <td>0.02</td>\n",
       "      <td>0.62</td>\n",
       "      <td>0.02</td>\n",
       "      <td>0.03</td>\n",
       "      <td>0.31</td>\n",
       "    </tr>\n",
       "    <tr>\n",
       "      <th>tech</th>\n",
       "      <td>0.02</td>\n",
       "      <td>0.91</td>\n",
       "      <td>0.02</td>\n",
       "      <td>0.02</td>\n",
       "      <td>0.02</td>\n",
       "    </tr>\n",
       "    <tr>\n",
       "      <th>tech</th>\n",
       "      <td>0.02</td>\n",
       "      <td>0.48</td>\n",
       "      <td>0.02</td>\n",
       "      <td>0.02</td>\n",
       "      <td>0.46</td>\n",
       "    </tr>\n",
       "    <tr>\n",
       "      <th>business</th>\n",
       "      <td>0.02</td>\n",
       "      <td>0.77</td>\n",
       "      <td>0.02</td>\n",
       "      <td>0.02</td>\n",
       "      <td>0.17</td>\n",
       "    </tr>\n",
       "    <tr>\n",
       "      <th>sport</th>\n",
       "      <td>0.02</td>\n",
       "      <td>0.02</td>\n",
       "      <td>0.13</td>\n",
       "      <td>0.02</td>\n",
       "      <td>0.80</td>\n",
       "    </tr>\n",
       "  </tbody>\n",
       "</table>\n",
       "</div>"
      ],
      "text/plain": [
       "               Topic 1  Topic 2  Topic 3  Topic 4  Topic 5\n",
       "Category                                                  \n",
       "entertainment     0.02     0.62     0.02     0.03     0.31\n",
       "tech              0.02     0.91     0.02     0.02     0.02\n",
       "tech              0.02     0.48     0.02     0.02     0.46\n",
       "business          0.02     0.77     0.02     0.02     0.17\n",
       "sport             0.02     0.02     0.13     0.02     0.80"
      ]
     },
     "execution_count": 27,
     "metadata": {},
     "output_type": "execute_result"
    }
   ],
   "source": [
    "test_preds = lda_base.transform(test_dtm)\n",
    "test_eval = pd.DataFrame(test_preds, columns=topic_labels, index=test_docs.Category)\n",
    "test_eval.head()"
   ]
  },
  {
   "cell_type": "code",
   "execution_count": 28,
   "metadata": {},
   "outputs": [
    {
     "data": {
      "image/png": "[encoded data removed]",
      "text/plain": [
       "<Figure size 1008x626.4 with 2 Axes>"
      ]
     },
     "metadata": {},
     "output_type": "display_data"
    }
   ],
   "source": [
    "df = test_eval.groupby(level='Category').idxmax(\n",
    "    axis=1).reset_index(-1, drop=True)\n",
    "sns.heatmap(df.groupby(level='Category').value_counts(normalize=True)\n",
    "            .unstack(-1), annot=True, fmt='.1%', cmap='Blues', square=True)\n",
    "plt.title('Topic Assignments');"
   ]
  },
  {
   "cell_type": "code",
   "execution_count": 29,
   "metadata": {},
   "outputs": [],
   "source": [
    "# Create Training Dataframe for Comparing Misclassified documents\n",
    "train_opt_eval = pd.DataFrame(data=lda_base.transform(train_dtm),\n",
    "                              columns=topic_labels,\n",
    "                              index=train_docs.Category)"
   ]
  },
  {
   "cell_type": "code",
   "execution_count": 30,
   "metadata": {},
   "outputs": [],
   "source": [
    "test_opt_eval = pd.DataFrame(data=lda_base.transform(test_dtm),\n",
    "                              columns=topic_labels,\n",
    "                              index=test_docs.Category)"
   ]
  },
  {
   "cell_type": "code",
   "execution_count": 31,
   "metadata": {},
   "outputs": [
    {
     "data": {
      "image/png": "[encoded data removed]",
      "text/plain": [
       "<Figure size 1008x626.4 with 4 Axes>"
      ]
     },
     "metadata": {},
     "output_type": "display_data"
    }
   ],
   "source": [
    "## Comparing Side by Side\n",
    "fig, axes = plt.subplots(ncols=2)\n",
    "source = ['Train', 'Test']\n",
    "for i, df in enumerate([train_opt_eval, test_opt_eval]):\n",
    "    df = df.groupby(level='Category').idxmax(\n",
    "    axis=1).reset_index(-1, drop=True)\n",
    "    sns.heatmap(df.groupby(level='Category').value_counts(normalize=True)\n",
    "            .unstack(-1), annot=True, fmt='.1%', cmap='Blues', square=True, ax=axes[i])\n",
    "    axes[i].set_title('{} Data: Topic Assignments'.format(source[i]));"
   ]
  },
  {
   "cell_type": "markdown",
   "metadata": {},
   "source": [
    "### Misclassified Documents"
   ]
  },
  {
   "cell_type": "code",
   "execution_count": 32,
   "metadata": {},
   "outputs": [
    {
     "data": {
      "text/html": [
       "<div>\n",
       "<style scoped>\n",
       "    .dataframe tbody tr th:only-of-type {\n",
       "        vertical-align: middle;\n",
       "    }\n",
       "\n",
       "    .dataframe tbody tr th {\n",
       "        vertical-align: top;\n",
       "    }\n",
       "\n",
       "    .dataframe thead th {\n",
       "        text-align: right;\n",
       "    }\n",
       "</style>\n",
       "<table border=\"1\" class=\"dataframe\">\n",
       "  <thead>\n",
       "    <tr style=\"text-align: right;\">\n",
       "      <th></th>\n",
       "      <th>Category</th>\n",
       "      <th>predicted</th>\n",
       "      <th>heading</th>\n",
       "      <th>Article</th>\n",
       "    </tr>\n",
       "  </thead>\n",
       "  <tbody>\n",
       "    <tr>\n",
       "      <th>0</th>\n",
       "      <td>business</td>\n",
       "      <td>Topic 2</td>\n",
       "      <td>German music in a 'zombie' state</td>\n",
       "      <td>The German music business - the third largest...</td>\n",
       "    </tr>\n",
       "    <tr>\n",
       "      <th>1</th>\n",
       "      <td>business</td>\n",
       "      <td>Topic 2</td>\n",
       "      <td>Kenyan school turns to handhelds</td>\n",
       "      <td>At the Mbita Point primary school in western ...</td>\n",
       "    </tr>\n",
       "    <tr>\n",
       "      <th>2</th>\n",
       "      <td>business</td>\n",
       "      <td>Topic 5</td>\n",
       "      <td>Halo fans' hope for sequel</td>\n",
       "      <td>Xbox video game Halo 2 has been released in t...</td>\n",
       "    </tr>\n",
       "    <tr>\n",
       "      <th>3</th>\n",
       "      <td>business</td>\n",
       "      <td>Topic 2</td>\n",
       "      <td>Novartis hits acquisition trail</td>\n",
       "      <td>Swiss drugmaker Novartis has announced 5.65bn...</td>\n",
       "    </tr>\n",
       "    <tr>\n",
       "      <th>4</th>\n",
       "      <td>business</td>\n",
       "      <td>Topic 5</td>\n",
       "      <td>Radcliffe will compete in London</td>\n",
       "      <td>Paula Radcliffe will compete in the Flora Lon...</td>\n",
       "    </tr>\n",
       "  </tbody>\n",
       "</table>\n",
       "</div>"
      ],
      "text/plain": [
       "   Category predicted                           heading  \\\n",
       "0  business   Topic 2  German music in a 'zombie' state   \n",
       "1  business   Topic 2  Kenyan school turns to handhelds   \n",
       "2  business   Topic 5        Halo fans' hope for sequel   \n",
       "3  business   Topic 2   Novartis hits acquisition trail   \n",
       "4  business   Topic 5  Radcliffe will compete in London   \n",
       "\n",
       "                                             Article  \n",
       "0   The German music business - the third largest...  \n",
       "1   At the Mbita Point primary school in western ...  \n",
       "2   Xbox video game Halo 2 has been released in t...  \n",
       "3   Swiss drugmaker Novartis has announced 5.65bn...  \n",
       "4   Paula Radcliffe will compete in the Flora Lon...  "
      ]
     },
     "execution_count": 32,
     "metadata": {},
     "output_type": "execute_result"
    }
   ],
   "source": [
    "test_assignments = test_opt_eval.groupby(level='Category').idxmax(axis=1)\n",
    "test_assignments = test_assignments.reset_index(-1, drop=True).to_frame('predicted').reset_index()\n",
    "test_assignments['heading'] = test_docs.Heading.values\n",
    "test_assignments['Article'] = test_docs.Article.values\n",
    "test_assignments.head()"
   ]
  },
  {
   "cell_type": "code",
   "execution_count": null,
   "metadata": {},
   "outputs": [],
   "source": []
  }
 ],
 "metadata": {
  "kernelspec": {
   "display_name": "Python 3",
   "language": "python",
   "name": "python3"
  },
  "language_info": {
   "codemirror_mode": {
    "name": "ipython",
    "version": 3
   },
   "file_extension": ".py",
   "mimetype": "text/x-python",
   "name": "python",
   "nbconvert_exporter": "python",
   "pygments_lexer": "ipython3",
   "version": "3.8.3"
  }
 },
 "nbformat": 4,
 "nbformat_minor": 4
}
